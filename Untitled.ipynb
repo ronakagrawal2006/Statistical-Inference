{
 "cells": [
  {
   "cell_type": "markdown",
   "metadata": {},
   "source": [
    "What is a Probabilty Distritubution?\n",
    "Given a Random Variable: Meaning the Probability of an event?\n",
    "\n",
    "Have 10000$, game gives 1:1 on 25 successful , 2:1 on 35 Succesful and 3:1 on 40 Successful of 50 events"
   ]
  },
  {
   "cell_type": "code",
   "execution_count": 1,
   "metadata": {},
   "outputs": [],
   "source": [
    "import numpy as np"
   ]
  },
  {
   "cell_type": "code",
   "execution_count": null,
   "metadata": {},
   "outputs": [],
   "source": [
    "#ToDo:\n",
    "1. create a method that takes in the amount to be placed on 1st bet, returns the profit with probability\n",
    "\n"
   ]
  },
  {
   "cell_type": "code",
   "execution_count": 27,
   "metadata": {},
   "outputs": [
    {
     "name": "stdout",
     "output_type": "stream",
     "text": [
      "3.0\n"
     ]
    }
   ],
   "source": [
    "import math\n",
    "from scipy.stats import binom\n",
    "\n"
   ]
  },
  {
   "cell_type": "code",
   "execution_count": 5,
   "metadata": {},
   "outputs": [
    {
     "name": "stdout",
     "output_type": "stream",
     "text": [
      "0.375\n"
     ]
    }
   ],
   "source": [
    "def binom(n,r,p):\n",
    "    return nCr(n,r) * ((p)**(r)) * ((1-p) **(n-r))\n",
    "print(binom(3,1,0.5))"
   ]
  },
  {
   "cell_type": "code",
   "execution_count": 40,
   "metadata": {},
   "outputs": [],
   "source": [
    "\n",
    "def get_probability(r,n):\n",
    "    return binom.pmf(r,n,0.5)\n",
    "\n",
    "#shouldget "
   ]
  },
  {
   "cell_type": "code",
   "execution_count": 41,
   "metadata": {},
   "outputs": [],
   "source": [
    "double_step=35\n",
    "number_of_trials=50\n",
    "triple_step=40"
   ]
  },
  {
   "cell_type": "code",
   "execution_count": 42,
   "metadata": {},
   "outputs": [
    {
     "name": "stdout",
     "output_type": "stream",
     "text": [
      "0.00199913825504\n",
      "9.12361579175e-06\n"
     ]
    }
   ],
   "source": [
    "double_prob=get_probability(double_step,number_of_trials)\n",
    "triple_prob=get_probability(triple_step,number_of_trials)\n",
    "print(double_prob)\n",
    "print(triple_prob)"
   ]
  },
  {
   "cell_type": "code",
   "execution_count": 44,
   "metadata": {},
   "outputs": [],
   "source": [
    "def get_profit_double(x):\n",
    "    return x*get_probability(double_step,number_of_trials)\n",
    "\n",
    "def get_profit_triple(x):\n",
    "    return x*get_probability(double_step,number_of_trials)"
   ]
  },
  {
   "cell_type": "code",
   "execution_count": null,
   "metadata": {},
   "outputs": [],
   "source": []
  }
 ],
 "metadata": {
  "kernelspec": {
   "display_name": "Python 3",
   "language": "python",
   "name": "python3"
  },
  "language_info": {
   "codemirror_mode": {
    "name": "ipython",
    "version": 3
   },
   "file_extension": ".py",
   "mimetype": "text/x-python",
   "name": "python",
   "nbconvert_exporter": "python",
   "pygments_lexer": "ipython3",
   "version": "3.5.4"
  }
 },
 "nbformat": 4,
 "nbformat_minor": 2
}
